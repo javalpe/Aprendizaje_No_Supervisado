{
  "nbformat": 4,
  "nbformat_minor": 0,
  "metadata": {
    "accelerator": "GPU",
    "colab": {
      "name": "Sesion1_AprendizajeNoSupervisado.ipynb",
      "provenance": [],
      "collapsed_sections": [],
      "toc_visible": true
    },
    "kernelspec": {
      "display_name": "Python 3",
      "language": "python",
      "name": "python3"
    },
    "language_info": {
      "codemirror_mode": {
        "name": "ipython",
        "version": 3
      },
      "file_extension": ".py",
      "mimetype": "text/x-python",
      "name": "python",
      "nbconvert_exporter": "python",
      "pygments_lexer": "ipython3",
      "version": "3.7.1"
    }
  },
  "cells": [
    {
      "cell_type": "markdown",
      "metadata": {
        "id": "RlqcVPrvPV2q"
      },
      "source": [
        "## Bienvenidos a al ambiente de ejecución de código Colab!!!"
      ]
    },
    {
      "cell_type": "markdown",
      "metadata": {
        "id": "ULYFoFS4zu-S"
      },
      "source": [
        "# Presentación del Dataset Iris"
      ]
    },
    {
      "cell_type": "markdown",
      "metadata": {
        "id": "LmIh93thx69V"
      },
      "source": [
        "En el presente ejemplo comenzaremos con un dataset **público** utilizado para la formación de **Machine Learning** denominado Iris dataset que se basa en describir las longitudes del sépalo y pétalo de tres tipos de flores: setosa, virginica y versicolor. Este dataset es uno de los más básicos y usados para introducirnos en el mundo de la ciencia de datos."
      ]
    },
    {
      "cell_type": "markdown",
      "metadata": {
        "id": "wTigmeodVxKw"
      },
      "source": [
        "Podemos ver una breve historia de este dataset [acá](https://es.wikipedia.org/wiki/Conjunto_de_datos_flor_iris)"
      ]
    },
    {
      "cell_type": "code",
      "metadata": {
        "id": "6VkelaG7xqbY"
      },
      "source": [
        "#Importamos librerías útiles\n",
        "import pandas as pd #Es una librería para manipulación de datos\n",
        "import seaborn as sns  #Es una librería para poder hacer nuestros gráficos rápidos y atractivos"
      ],
      "execution_count": 1,
      "outputs": []
    },
    {
      "cell_type": "code",
      "metadata": {
        "id": "GnbvxtyiCnAh"
      },
      "source": [
        "#Asignamos la variable iris \n",
        "iris = pd.read_csv('https://raw.githubusercontent.com/javalpe/datasets/master/iris.csv')"
      ],
      "execution_count": 8,
      "outputs": []
    },
    {
      "cell_type": "code",
      "metadata": {
        "id": "CA2hL-oQCnL-",
        "outputId": "661a46f2-adc7-4bfd-a452-c439d115b00b",
        "colab": {
          "base_uri": "https://localhost:8080/",
          "height": 206
        }
      },
      "source": [
        "#Mostramos los primeros cinco (5) registros del dataset iris con la instrucción head. Este número se muestra por defecto\n",
        "iris.head() "
      ],
      "execution_count": 9,
      "outputs": [
        {
          "output_type": "execute_result",
          "data": {
            "text/plain": [
              "   largo_sepalo  ancho_sepalo  largo_petalo  ancho_petalo tipo_flor\n",
              "0           5.1           3.5           1.4           0.2    setosa\n",
              "1           4.9           3.0           1.4           0.2    setosa\n",
              "2           4.7           3.2           1.3           0.2    setosa\n",
              "3           4.6           3.1           1.5           0.2    setosa\n",
              "4           5.0           3.6           1.4           0.2    setosa"
            ],
            "text/html": [
              "\n",
              "  <div id=\"df-eb49df97-06b2-4b51-a9dc-71de83d4cb05\">\n",
              "    <div class=\"colab-df-container\">\n",
              "      <div>\n",
              "<style scoped>\n",
              "    .dataframe tbody tr th:only-of-type {\n",
              "        vertical-align: middle;\n",
              "    }\n",
              "\n",
              "    .dataframe tbody tr th {\n",
              "        vertical-align: top;\n",
              "    }\n",
              "\n",
              "    .dataframe thead th {\n",
              "        text-align: right;\n",
              "    }\n",
              "</style>\n",
              "<table border=\"1\" class=\"dataframe\">\n",
              "  <thead>\n",
              "    <tr style=\"text-align: right;\">\n",
              "      <th></th>\n",
              "      <th>largo_sepalo</th>\n",
              "      <th>ancho_sepalo</th>\n",
              "      <th>largo_petalo</th>\n",
              "      <th>ancho_petalo</th>\n",
              "      <th>tipo_flor</th>\n",
              "    </tr>\n",
              "  </thead>\n",
              "  <tbody>\n",
              "    <tr>\n",
              "      <th>0</th>\n",
              "      <td>5.1</td>\n",
              "      <td>3.5</td>\n",
              "      <td>1.4</td>\n",
              "      <td>0.2</td>\n",
              "      <td>setosa</td>\n",
              "    </tr>\n",
              "    <tr>\n",
              "      <th>1</th>\n",
              "      <td>4.9</td>\n",
              "      <td>3.0</td>\n",
              "      <td>1.4</td>\n",
              "      <td>0.2</td>\n",
              "      <td>setosa</td>\n",
              "    </tr>\n",
              "    <tr>\n",
              "      <th>2</th>\n",
              "      <td>4.7</td>\n",
              "      <td>3.2</td>\n",
              "      <td>1.3</td>\n",
              "      <td>0.2</td>\n",
              "      <td>setosa</td>\n",
              "    </tr>\n",
              "    <tr>\n",
              "      <th>3</th>\n",
              "      <td>4.6</td>\n",
              "      <td>3.1</td>\n",
              "      <td>1.5</td>\n",
              "      <td>0.2</td>\n",
              "      <td>setosa</td>\n",
              "    </tr>\n",
              "    <tr>\n",
              "      <th>4</th>\n",
              "      <td>5.0</td>\n",
              "      <td>3.6</td>\n",
              "      <td>1.4</td>\n",
              "      <td>0.2</td>\n",
              "      <td>setosa</td>\n",
              "    </tr>\n",
              "  </tbody>\n",
              "</table>\n",
              "</div>\n",
              "      <button class=\"colab-df-convert\" onclick=\"convertToInteractive('df-eb49df97-06b2-4b51-a9dc-71de83d4cb05')\"\n",
              "              title=\"Convert this dataframe to an interactive table.\"\n",
              "              style=\"display:none;\">\n",
              "        \n",
              "  <svg xmlns=\"http://www.w3.org/2000/svg\" height=\"24px\"viewBox=\"0 0 24 24\"\n",
              "       width=\"24px\">\n",
              "    <path d=\"M0 0h24v24H0V0z\" fill=\"none\"/>\n",
              "    <path d=\"M18.56 5.44l.94 2.06.94-2.06 2.06-.94-2.06-.94-.94-2.06-.94 2.06-2.06.94zm-11 1L8.5 8.5l.94-2.06 2.06-.94-2.06-.94L8.5 2.5l-.94 2.06-2.06.94zm10 10l.94 2.06.94-2.06 2.06-.94-2.06-.94-.94-2.06-.94 2.06-2.06.94z\"/><path d=\"M17.41 7.96l-1.37-1.37c-.4-.4-.92-.59-1.43-.59-.52 0-1.04.2-1.43.59L10.3 9.45l-7.72 7.72c-.78.78-.78 2.05 0 2.83L4 21.41c.39.39.9.59 1.41.59.51 0 1.02-.2 1.41-.59l7.78-7.78 2.81-2.81c.8-.78.8-2.07 0-2.86zM5.41 20L4 18.59l7.72-7.72 1.47 1.35L5.41 20z\"/>\n",
              "  </svg>\n",
              "      </button>\n",
              "      \n",
              "  <style>\n",
              "    .colab-df-container {\n",
              "      display:flex;\n",
              "      flex-wrap:wrap;\n",
              "      gap: 12px;\n",
              "    }\n",
              "\n",
              "    .colab-df-convert {\n",
              "      background-color: #E8F0FE;\n",
              "      border: none;\n",
              "      border-radius: 50%;\n",
              "      cursor: pointer;\n",
              "      display: none;\n",
              "      fill: #1967D2;\n",
              "      height: 32px;\n",
              "      padding: 0 0 0 0;\n",
              "      width: 32px;\n",
              "    }\n",
              "\n",
              "    .colab-df-convert:hover {\n",
              "      background-color: #E2EBFA;\n",
              "      box-shadow: 0px 1px 2px rgba(60, 64, 67, 0.3), 0px 1px 3px 1px rgba(60, 64, 67, 0.15);\n",
              "      fill: #174EA6;\n",
              "    }\n",
              "\n",
              "    [theme=dark] .colab-df-convert {\n",
              "      background-color: #3B4455;\n",
              "      fill: #D2E3FC;\n",
              "    }\n",
              "\n",
              "    [theme=dark] .colab-df-convert:hover {\n",
              "      background-color: #434B5C;\n",
              "      box-shadow: 0px 1px 3px 1px rgba(0, 0, 0, 0.15);\n",
              "      filter: drop-shadow(0px 1px 2px rgba(0, 0, 0, 0.3));\n",
              "      fill: #FFFFFF;\n",
              "    }\n",
              "  </style>\n",
              "\n",
              "      <script>\n",
              "        const buttonEl =\n",
              "          document.querySelector('#df-eb49df97-06b2-4b51-a9dc-71de83d4cb05 button.colab-df-convert');\n",
              "        buttonEl.style.display =\n",
              "          google.colab.kernel.accessAllowed ? 'block' : 'none';\n",
              "\n",
              "        async function convertToInteractive(key) {\n",
              "          const element = document.querySelector('#df-eb49df97-06b2-4b51-a9dc-71de83d4cb05');\n",
              "          const dataTable =\n",
              "            await google.colab.kernel.invokeFunction('convertToInteractive',\n",
              "                                                     [key], {});\n",
              "          if (!dataTable) return;\n",
              "\n",
              "          const docLinkHtml = 'Like what you see? Visit the ' +\n",
              "            '<a target=\"_blank\" href=https://colab.research.google.com/notebooks/data_table.ipynb>data table notebook</a>'\n",
              "            + ' to learn more about interactive tables.';\n",
              "          element.innerHTML = '';\n",
              "          dataTable['output_type'] = 'display_data';\n",
              "          await google.colab.output.renderOutput(dataTable, element);\n",
              "          const docLink = document.createElement('div');\n",
              "          docLink.innerHTML = docLinkHtml;\n",
              "          element.appendChild(docLink);\n",
              "        }\n",
              "      </script>\n",
              "    </div>\n",
              "  </div>\n",
              "  "
            ]
          },
          "metadata": {},
          "execution_count": 9
        }
      ]
    },
    {
      "cell_type": "markdown",
      "metadata": {
        "id": "pU0jAqkeDpWB"
      },
      "source": [
        "Como resultado hemos obtenido 5 filas con las observaciones de las características de los pétalos y el sépalo.\n",
        "    Hay una columna a la izquierda (**en negrita**) que hace referencia a la posición de cada fila. A esto se le llama index (índice) y nos servirá para ubicar más rápidos nuestros datos. \n",
        "Hay una columna a la derecha denominada **tipo_flor** que asigna el tipo de flor de cada observación. Esta columna es importante porque será la **variable objetivo** que vamos a predecir o tratar de acercarnos usando el algoritmo de **clustering**"
      ]
    },
    {
      "cell_type": "code",
      "metadata": {
        "id": "UOnsPcwEPV3E",
        "colab": {
          "base_uri": "https://localhost:8080/",
          "height": 300
        },
        "outputId": "04d483e7-9aab-4d69-c995-ebd0d4f6379a"
      },
      "source": [
        "#Para visualizar la lista de estadísticos básicos utilizamos el método describe\n",
        "iris.describe()"
      ],
      "execution_count": 10,
      "outputs": [
        {
          "output_type": "execute_result",
          "data": {
            "text/plain": [
              "       largo_sepalo  ancho_sepalo  largo_petalo  ancho_petalo\n",
              "count    100.000000    100.000000    100.000000     100.00000\n",
              "mean       5.914000      3.041000      3.851000       1.21300\n",
              "std        0.856469      0.439489      1.785378       0.74558\n",
              "min        4.300000      2.000000      1.000000       0.10000\n",
              "25%        5.175000      2.800000      1.600000       0.37500\n",
              "50%        5.850000      3.000000      4.500000       1.40000\n",
              "75%        6.500000      3.300000      5.100000       1.80000\n",
              "max        7.900000      4.400000      6.900000       2.50000"
            ],
            "text/html": [
              "\n",
              "  <div id=\"df-a00fedf9-c184-49e1-afa4-b168a4411d9f\">\n",
              "    <div class=\"colab-df-container\">\n",
              "      <div>\n",
              "<style scoped>\n",
              "    .dataframe tbody tr th:only-of-type {\n",
              "        vertical-align: middle;\n",
              "    }\n",
              "\n",
              "    .dataframe tbody tr th {\n",
              "        vertical-align: top;\n",
              "    }\n",
              "\n",
              "    .dataframe thead th {\n",
              "        text-align: right;\n",
              "    }\n",
              "</style>\n",
              "<table border=\"1\" class=\"dataframe\">\n",
              "  <thead>\n",
              "    <tr style=\"text-align: right;\">\n",
              "      <th></th>\n",
              "      <th>largo_sepalo</th>\n",
              "      <th>ancho_sepalo</th>\n",
              "      <th>largo_petalo</th>\n",
              "      <th>ancho_petalo</th>\n",
              "    </tr>\n",
              "  </thead>\n",
              "  <tbody>\n",
              "    <tr>\n",
              "      <th>count</th>\n",
              "      <td>100.000000</td>\n",
              "      <td>100.000000</td>\n",
              "      <td>100.000000</td>\n",
              "      <td>100.00000</td>\n",
              "    </tr>\n",
              "    <tr>\n",
              "      <th>mean</th>\n",
              "      <td>5.914000</td>\n",
              "      <td>3.041000</td>\n",
              "      <td>3.851000</td>\n",
              "      <td>1.21300</td>\n",
              "    </tr>\n",
              "    <tr>\n",
              "      <th>std</th>\n",
              "      <td>0.856469</td>\n",
              "      <td>0.439489</td>\n",
              "      <td>1.785378</td>\n",
              "      <td>0.74558</td>\n",
              "    </tr>\n",
              "    <tr>\n",
              "      <th>min</th>\n",
              "      <td>4.300000</td>\n",
              "      <td>2.000000</td>\n",
              "      <td>1.000000</td>\n",
              "      <td>0.10000</td>\n",
              "    </tr>\n",
              "    <tr>\n",
              "      <th>25%</th>\n",
              "      <td>5.175000</td>\n",
              "      <td>2.800000</td>\n",
              "      <td>1.600000</td>\n",
              "      <td>0.37500</td>\n",
              "    </tr>\n",
              "    <tr>\n",
              "      <th>50%</th>\n",
              "      <td>5.850000</td>\n",
              "      <td>3.000000</td>\n",
              "      <td>4.500000</td>\n",
              "      <td>1.40000</td>\n",
              "    </tr>\n",
              "    <tr>\n",
              "      <th>75%</th>\n",
              "      <td>6.500000</td>\n",
              "      <td>3.300000</td>\n",
              "      <td>5.100000</td>\n",
              "      <td>1.80000</td>\n",
              "    </tr>\n",
              "    <tr>\n",
              "      <th>max</th>\n",
              "      <td>7.900000</td>\n",
              "      <td>4.400000</td>\n",
              "      <td>6.900000</td>\n",
              "      <td>2.50000</td>\n",
              "    </tr>\n",
              "  </tbody>\n",
              "</table>\n",
              "</div>\n",
              "      <button class=\"colab-df-convert\" onclick=\"convertToInteractive('df-a00fedf9-c184-49e1-afa4-b168a4411d9f')\"\n",
              "              title=\"Convert this dataframe to an interactive table.\"\n",
              "              style=\"display:none;\">\n",
              "        \n",
              "  <svg xmlns=\"http://www.w3.org/2000/svg\" height=\"24px\"viewBox=\"0 0 24 24\"\n",
              "       width=\"24px\">\n",
              "    <path d=\"M0 0h24v24H0V0z\" fill=\"none\"/>\n",
              "    <path d=\"M18.56 5.44l.94 2.06.94-2.06 2.06-.94-2.06-.94-.94-2.06-.94 2.06-2.06.94zm-11 1L8.5 8.5l.94-2.06 2.06-.94-2.06-.94L8.5 2.5l-.94 2.06-2.06.94zm10 10l.94 2.06.94-2.06 2.06-.94-2.06-.94-.94-2.06-.94 2.06-2.06.94z\"/><path d=\"M17.41 7.96l-1.37-1.37c-.4-.4-.92-.59-1.43-.59-.52 0-1.04.2-1.43.59L10.3 9.45l-7.72 7.72c-.78.78-.78 2.05 0 2.83L4 21.41c.39.39.9.59 1.41.59.51 0 1.02-.2 1.41-.59l7.78-7.78 2.81-2.81c.8-.78.8-2.07 0-2.86zM5.41 20L4 18.59l7.72-7.72 1.47 1.35L5.41 20z\"/>\n",
              "  </svg>\n",
              "      </button>\n",
              "      \n",
              "  <style>\n",
              "    .colab-df-container {\n",
              "      display:flex;\n",
              "      flex-wrap:wrap;\n",
              "      gap: 12px;\n",
              "    }\n",
              "\n",
              "    .colab-df-convert {\n",
              "      background-color: #E8F0FE;\n",
              "      border: none;\n",
              "      border-radius: 50%;\n",
              "      cursor: pointer;\n",
              "      display: none;\n",
              "      fill: #1967D2;\n",
              "      height: 32px;\n",
              "      padding: 0 0 0 0;\n",
              "      width: 32px;\n",
              "    }\n",
              "\n",
              "    .colab-df-convert:hover {\n",
              "      background-color: #E2EBFA;\n",
              "      box-shadow: 0px 1px 2px rgba(60, 64, 67, 0.3), 0px 1px 3px 1px rgba(60, 64, 67, 0.15);\n",
              "      fill: #174EA6;\n",
              "    }\n",
              "\n",
              "    [theme=dark] .colab-df-convert {\n",
              "      background-color: #3B4455;\n",
              "      fill: #D2E3FC;\n",
              "    }\n",
              "\n",
              "    [theme=dark] .colab-df-convert:hover {\n",
              "      background-color: #434B5C;\n",
              "      box-shadow: 0px 1px 3px 1px rgba(0, 0, 0, 0.15);\n",
              "      filter: drop-shadow(0px 1px 2px rgba(0, 0, 0, 0.3));\n",
              "      fill: #FFFFFF;\n",
              "    }\n",
              "  </style>\n",
              "\n",
              "      <script>\n",
              "        const buttonEl =\n",
              "          document.querySelector('#df-a00fedf9-c184-49e1-afa4-b168a4411d9f button.colab-df-convert');\n",
              "        buttonEl.style.display =\n",
              "          google.colab.kernel.accessAllowed ? 'block' : 'none';\n",
              "\n",
              "        async function convertToInteractive(key) {\n",
              "          const element = document.querySelector('#df-a00fedf9-c184-49e1-afa4-b168a4411d9f');\n",
              "          const dataTable =\n",
              "            await google.colab.kernel.invokeFunction('convertToInteractive',\n",
              "                                                     [key], {});\n",
              "          if (!dataTable) return;\n",
              "\n",
              "          const docLinkHtml = 'Like what you see? Visit the ' +\n",
              "            '<a target=\"_blank\" href=https://colab.research.google.com/notebooks/data_table.ipynb>data table notebook</a>'\n",
              "            + ' to learn more about interactive tables.';\n",
              "          element.innerHTML = '';\n",
              "          dataTable['output_type'] = 'display_data';\n",
              "          await google.colab.output.renderOutput(dataTable, element);\n",
              "          const docLink = document.createElement('div');\n",
              "          docLink.innerHTML = docLinkHtml;\n",
              "          element.appendChild(docLink);\n",
              "        }\n",
              "      </script>\n",
              "    </div>\n",
              "  </div>\n",
              "  "
            ]
          },
          "metadata": {},
          "execution_count": 10
        }
      ]
    },
    {
      "cell_type": "code",
      "metadata": {
        "id": "jGl2dcgFPV3H",
        "colab": {
          "base_uri": "https://localhost:8080/"
        },
        "outputId": "374a72ce-4c1b-4ca3-c7b1-4b2ed4d66ade"
      },
      "source": [
        "#Si deseamos una vista resumida de todas las variables de nuestro dataset utilizamos el método info\n",
        "iris.info()\n",
        "#float, object, integer, hay más..."
      ],
      "execution_count": 11,
      "outputs": [
        {
          "output_type": "stream",
          "name": "stdout",
          "text": [
            "<class 'pandas.core.frame.DataFrame'>\n",
            "RangeIndex: 100 entries, 0 to 99\n",
            "Data columns (total 5 columns):\n",
            " #   Column        Non-Null Count  Dtype  \n",
            "---  ------        --------------  -----  \n",
            " 0   largo_sepalo  100 non-null    float64\n",
            " 1   ancho_sepalo  100 non-null    float64\n",
            " 2   largo_petalo  100 non-null    float64\n",
            " 3   ancho_petalo  100 non-null    float64\n",
            " 4   tipo_flor     100 non-null    object \n",
            "dtypes: float64(4), object(1)\n",
            "memory usage: 4.0+ KB\n"
          ]
        }
      ]
    },
    {
      "cell_type": "markdown",
      "metadata": {
        "id": "_BUDr5Ek0LA0"
      },
      "source": [
        "Estos descriptivos verifican que las cuatro variables almacenan **100 observaciones**, todas ellas con datos numéricos. Para este ejemplo no contamos con datos *categóricos* (no numéricos) y tampoco aparecen vacíos o errores."
      ]
    },
    {
      "cell_type": "markdown",
      "metadata": {
        "id": "0l544dAdz7Zi"
      },
      "source": [
        "# Tratamiento de la Data"
      ]
    },
    {
      "cell_type": "markdown",
      "metadata": {
        "id": "POiGyV5d0S61"
      },
      "source": [
        "Identificamos como **variable objetivo** (target): 'tipo_flor'. Las demás variables serán las **predictoras** (features) para el modelo."
      ]
    },
    {
      "cell_type": "code",
      "metadata": {
        "id": "OojkhBcw0DgC"
      },
      "source": [
        "#Creamos una variable X_iris para guardar el resultado de eliminar la columna tipo_flor del dataset iris\n",
        "X_iris = iris.drop('tipo_flor', axis=1) \n",
        "#axis = 1 es para las columnas, axis = 0 es para las filas."
      ],
      "execution_count": 17,
      "outputs": []
    },
    {
      "cell_type": "code",
      "metadata": {
        "id": "k8XRz2q3bkpo"
      },
      "source": [
        "#Creamos una variable y_iris para guardar la columna tipo_flor del dataset iris\n",
        "y_iris = iris['tipo_flor']"
      ],
      "execution_count": 18,
      "outputs": []
    },
    {
      "cell_type": "code",
      "metadata": {
        "id": "9JkThrAT0Pwi",
        "colab": {
          "base_uri": "https://localhost:8080/"
        },
        "outputId": "f4834d61-a00a-468d-e750-188668f49735"
      },
      "source": [
        "#Para visualizar el tamaño del dataset utilizamos el método shape, como resultado obtenemos el números de filas y columnas (en este orden)\n",
        "X_iris.shape, y_iris.shape"
      ],
      "execution_count": 34,
      "outputs": [
        {
          "output_type": "execute_result",
          "data": {
            "text/plain": [
              "((100, 4), (100,))"
            ]
          },
          "metadata": {},
          "execution_count": 34
        }
      ]
    },
    {
      "cell_type": "markdown",
      "metadata": {
        "id": "Y8nS8JjwPV3t"
      },
      "source": [
        "## Haremos PCA para visulizar cómo se agrupa de manera intuitiva\n"
      ]
    },
    {
      "cell_type": "markdown",
      "metadata": {
        "id": "T8kynYVM5npv"
      },
      "source": [
        "Para aplicar el modelo de *clustering* vamos a realizar una **reducción de dimensionalidad** donde las variables predictoras se reducen a solo dos (2) PCA -que son las iniciales de *Principal Component Analysis*- de esta manera vamos a visualizar el dataset iris en función de solo dos *nuevas variables predictoras* denominadas PCA1 y PCA2"
      ]
    },
    {
      "cell_type": "code",
      "metadata": {
        "id": "JA7LzYPC5KyD"
      },
      "source": [
        "#Importamos la librería PCA\n",
        "from sklearn.decomposition import PCA\n",
        "\n",
        "#Creamos  una variable feature_pca para asignar PCA, definimos el valor de n_components para limitar a dos las variables finales\n",
        "features_pca = PCA(n_components=2)"
      ],
      "execution_count": 21,
      "outputs": []
    },
    {
      "cell_type": "code",
      "metadata": {
        "id": "b_LAI87nHAge"
      },
      "source": [
        "#Adaptamos la variable creada feature_pca con la data guardada en X_iris\n",
        "features_pca.fit(X_iris)\n",
        "\n",
        "#Creamos una variable X_2D para guardar este último cambio\n",
        "X_2D = features_pca.transform(X_iris)"
      ],
      "execution_count": 22,
      "outputs": []
    },
    {
      "cell_type": "markdown",
      "metadata": {
        "id": "M0Mj75DOCK3R"
      },
      "source": [
        "Para visualizar el resultado de la reducción usamos nuevamente el método **scatterplot** del seaborn (sns). Previamente añadimos al dataset iris las dos dimensiones ya obtenidas: PCA 1 y PCA 2"
      ]
    },
    {
      "cell_type": "code",
      "metadata": {
        "id": "PlfmIqB4CBYV"
      },
      "source": [
        "#Añadimmos una columna denominada PCA1 al dataset iris usando la columna 0 de la variable X_2D, es decir la primera columna contando de izquierda a derecha\n",
        "iris['PCA1'] = X_2D[:, 0]\n",
        "\n",
        "#Añadimmos una columna denominada PCA2 al dataset iris usando la columna 1 de la variable X_2D, es decir la segunda columna contando de izquierda a derecha\n",
        "iris['PCA2'] = X_2D[:, 1]"
      ],
      "execution_count": 24,
      "outputs": []
    },
    {
      "cell_type": "code",
      "metadata": {
        "id": "XqE8cak9HIJi",
        "colab": {
          "base_uri": "https://localhost:8080/",
          "height": 351
        },
        "outputId": "28318da4-9bae-4083-d6f1-d4396a1cb787"
      },
      "source": [
        "#Finalmente usamos el método scatterplot para graficar ambas dimensiones, ahora nuestro dataset iris tiene dos nuevas columnas PCA1 y PCA2\n",
        "x =iris['PCA1']\n",
        "y= iris['PCA2']\n",
        "sns.scatterplot(x, y,hue='tipo_flor',data=iris)"
      ],
      "execution_count": 32,
      "outputs": [
        {
          "output_type": "stream",
          "name": "stderr",
          "text": [
            "/usr/local/lib/python3.7/dist-packages/seaborn/_decorators.py:43: FutureWarning: Pass the following variables as keyword args: x, y. From version 0.12, the only valid positional argument will be `data`, and passing other arguments without an explicit keyword will result in an error or misinterpretation.\n",
            "  FutureWarning\n"
          ]
        },
        {
          "output_type": "execute_result",
          "data": {
            "text/plain": [
              "<matplotlib.axes._subplots.AxesSubplot at 0x7f5482bcc090>"
            ]
          },
          "metadata": {},
          "execution_count": 32
        },
        {
          "output_type": "display_data",
          "data": {
            "text/plain": [
              "<Figure size 432x288 with 1 Axes>"
            ],
            "image/png": "[encoded data removed]"
          },
          "metadata": {
            "needs_background": "light"
          }
        }
      ]
    },
    {
      "cell_type": "markdown",
      "metadata": {
        "id": "2FS9Kn24zp8w"
      },
      "source": [
        "# Selección y preparación del modelo"
      ]
    },
    {
      "cell_type": "markdown",
      "metadata": {
        "id": "eonVeo5O0BiQ"
      },
      "source": [
        "Ahora vamos a seleccionar un **modelo de clustering o agrupamiento** denominado *Kmeans*."
      ]
    },
    {
      "cell_type": "code",
      "metadata": {
        "id": "tpNu_u9lJSRc"
      },
      "source": [
        "#Importamos la librería KMeans\n",
        "from sklearn.cluster import KMeans\n",
        "\n",
        "#Creamos una variable kmeans para guardar el modelo Kmeans\n",
        "#Definimos los parámetros n_clusters para limitar solo tres agrupamientos, también podemos definir el máximo de iteraciones con max_iter\n",
        "kmeans = KMeans(n_clusters=3, max_iter=600)"
      ],
      "execution_count": 25,
      "outputs": []
    },
    {
      "cell_type": "code",
      "metadata": {
        "id": "ZjdyAlZnKpTB"
      },
      "source": [
        "#Adaptamos el modelo kmeans con las variables predictoras, en nuestro ejemplo serían los datos guardados en X_iris\n",
        "kmeans = kmeans.fit(X_iris)"
      ],
      "execution_count": 26,
      "outputs": []
    },
    {
      "cell_type": "code",
      "metadata": {
        "id": "F3cjoBo-Kpgw"
      },
      "source": [
        "#Creamos una variable predicciones para guardar las predicciones generadas por el modelo kmeans\n",
        "predicciones = kmeans.predict(X_iris)"
      ],
      "execution_count": 27,
      "outputs": []
    },
    {
      "cell_type": "code",
      "metadata": {
        "id": "CSzFkytOPV4c",
        "colab": {
          "base_uri": "https://localhost:8080/"
        },
        "outputId": "7b82a5e4-84bf-45e0-c6a2-e33329858fcd"
      },
      "source": [
        "predicciones"
      ],
      "execution_count": 28,
      "outputs": [
        {
          "output_type": "execute_result",
          "data": {
            "text/plain": [
              "array([1, 1, 1, 1, 1, 1, 1, 1, 1, 1, 1, 1, 1, 1, 1, 1, 1, 1, 1, 1, 1, 1,\n",
              "       1, 1, 1, 1, 1, 1, 1, 1, 1, 1, 2, 2, 2, 2, 2, 2, 2, 2, 2, 2, 2, 2,\n",
              "       2, 2, 2, 2, 2, 2, 2, 2, 2, 2, 2, 2, 2, 2, 2, 2, 2, 2, 2, 2, 2, 2,\n",
              "       0, 2, 0, 0, 0, 0, 2, 0, 0, 0, 0, 0, 0, 2, 2, 0, 0, 0, 0, 2, 0, 2,\n",
              "       0, 2, 0, 0, 2, 2, 0, 0, 0, 0, 0, 2], dtype=int32)"
            ]
          },
          "metadata": {},
          "execution_count": 28
        }
      ]
    },
    {
      "cell_type": "markdown",
      "source": [
        "Para visualizar el resultado de la predicción usamos nuevamente el método **scatterplot** del seaborn (sns). Previamente añadimos al dataset iris las predicciones  ya obtenidas en una nueva columna llamada **'predicciones'**"
      ],
      "metadata": {
        "id": "UqwdfEkwK-yM"
      }
    },
    {
      "cell_type": "code",
      "source": [
        "iris['predicciones'] = predicciones\n",
        "sns.scatterplot(x = 'PCA1', y = 'PCA2', hue = 'predicciones',data = iris)"
      ],
      "metadata": {
        "colab": {
          "base_uri": "https://localhost:8080/",
          "height": 296
        },
        "id": "f1vhr6D_HGeT",
        "outputId": "36a77d64-3c9a-4144-c5c0-9fe03617db49"
      },
      "execution_count": 33,
      "outputs": [
        {
          "output_type": "execute_result",
          "data": {
            "text/plain": [
              "<matplotlib.axes._subplots.AxesSubplot at 0x7f5482acf690>"
            ]
          },
          "metadata": {},
          "execution_count": 33
        },
        {
          "output_type": "display_data",
          "data": {
            "text/plain": [
              "<Figure size 432x288 with 1 Axes>"
            ],
            "image/png": "[encoded data removed]"
          },
          "metadata": {
            "needs_background": "light"
          }
        }
      ]
    },
    {
      "cell_type": "markdown",
      "source": [
        "Finalmente hemos comprobado que la visualización obtenida por el PCA (reduciendo las 4 columnas a solamente 2) es bastante similar a la visualización obtenida con el modelo de **clustering** (prediciendo los tipo_flor en la columna predicciones)."
      ],
      "metadata": {
        "id": "dYeFBq9DLb_b"
      }
    }
  ]
}